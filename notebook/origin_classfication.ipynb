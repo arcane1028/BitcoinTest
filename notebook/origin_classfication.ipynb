{
 "cells": [
  {
   "cell_type": "code",
   "execution_count": 1,
   "metadata": {
    "collapsed": false
   },
   "outputs": [
    {
     "data": {
      "text/html": [
       "<div>\n",
       "<style scoped>\n",
       "    .dataframe tbody tr th:only-of-type {\n",
       "        vertical-align: middle;\n",
       "    }\n",
       "\n",
       "    .dataframe tbody tr th {\n",
       "        vertical-align: top;\n",
       "    }\n",
       "\n",
       "    .dataframe thead th {\n",
       "        text-align: right;\n",
       "    }\n",
       "</style>\n",
       "<table border=\"1\" class=\"dataframe\">\n",
       "  <thead>\n",
       "    <tr style=\"text-align: right;\">\n",
       "      <th></th>\n",
       "      <th>blockID</th>\n",
       "      <th>txID</th>\n",
       "      <th>seq</th>\n",
       "      <th>addrID</th>\n",
       "      <th>sum</th>\n",
       "      <th>block_timestamp</th>\n",
       "      <th>balance</th>\n",
       "      <th>n_inputs</th>\n",
       "      <th>n_outputs</th>\n",
       "      <th>n_txs</th>\n",
       "      <th>cluster</th>\n",
       "    </tr>\n",
       "  </thead>\n",
       "  <tbody>\n",
       "    <tr>\n",
       "      <th>1</th>\n",
       "      <td>-1.782753</td>\n",
       "      <td>-1.753375</td>\n",
       "      <td>-0.140317</td>\n",
       "      <td>-0.514563</td>\n",
       "      <td>-2.199304</td>\n",
       "      <td>-1.733706</td>\n",
       "      <td>0.261965</td>\n",
       "      <td>-0.221446</td>\n",
       "      <td>-0.107145</td>\n",
       "      <td>-0.216222</td>\n",
       "      <td>2</td>\n",
       "    </tr>\n",
       "    <tr>\n",
       "      <th>2</th>\n",
       "      <td>-1.782753</td>\n",
       "      <td>-1.753378</td>\n",
       "      <td>-0.140317</td>\n",
       "      <td>-0.514563</td>\n",
       "      <td>-0.598916</td>\n",
       "      <td>-1.733706</td>\n",
       "      <td>0.444156</td>\n",
       "      <td>-0.221446</td>\n",
       "      <td>-0.107145</td>\n",
       "      <td>-0.216222</td>\n",
       "      <td>2</td>\n",
       "    </tr>\n",
       "    <tr>\n",
       "      <th>3</th>\n",
       "      <td>-1.782753</td>\n",
       "      <td>-1.753377</td>\n",
       "      <td>-0.140317</td>\n",
       "      <td>-0.514563</td>\n",
       "      <td>-0.268953</td>\n",
       "      <td>-1.733706</td>\n",
       "      <td>0.424287</td>\n",
       "      <td>-0.221446</td>\n",
       "      <td>-0.107145</td>\n",
       "      <td>-0.216222</td>\n",
       "      <td>2</td>\n",
       "    </tr>\n",
       "    <tr>\n",
       "      <th>4</th>\n",
       "      <td>-1.782753</td>\n",
       "      <td>-1.753378</td>\n",
       "      <td>-0.140317</td>\n",
       "      <td>-0.514563</td>\n",
       "      <td>-2.202442</td>\n",
       "      <td>-1.733706</td>\n",
       "      <td>0.488375</td>\n",
       "      <td>-0.221446</td>\n",
       "      <td>-0.107145</td>\n",
       "      <td>-0.216222</td>\n",
       "      <td>2</td>\n",
       "    </tr>\n",
       "    <tr>\n",
       "      <th>5</th>\n",
       "      <td>-1.782753</td>\n",
       "      <td>-1.752993</td>\n",
       "      <td>-0.140317</td>\n",
       "      <td>-0.911458</td>\n",
       "      <td>0.000819</td>\n",
       "      <td>-1.733706</td>\n",
       "      <td>0.650967</td>\n",
       "      <td>-0.192982</td>\n",
       "      <td>-0.107145</td>\n",
       "      <td>-0.216222</td>\n",
       "      <td>2</td>\n",
       "    </tr>\n",
       "  </tbody>\n",
       "</table>\n",
       "</div>"
      ],
      "text/plain": [
       "<div>\n",
       "<style scoped>\n",
       "    .dataframe tbody tr th:only-of-type {\n",
       "        vertical-align: middle;\n",
       "    }\n",
       "\n",
       "    .dataframe tbody tr th {\n",
       "        vertical-align: top;\n",
       "    }\n",
       "\n",
       "    .dataframe thead th {\n",
       "        text-align: right;\n",
       "    }\n",
       "</style>\n",
       "<table border=\"1\" class=\"dataframe\">\n",
       "  <thead>\n",
       "    <tr style=\"text-align: right;\">\n",
       "      <th></th>\n",
       "      <th>blockID</th>\n",
       "      <th>txID</th>\n",
       "      <th>seq</th>\n",
       "      <th>addrID</th>\n",
       "      <th>sum</th>\n",
       "      <th>block_timestamp</th>\n",
       "      <th>balance</th>\n",
       "      <th>n_inputs</th>\n",
       "      <th>n_outputs</th>\n",
       "      <th>n_txs</th>\n",
       "      <th>cluster</th>\n",
       "    </tr>\n",
       "  </thead>\n",
       "  <tbody>\n",
       "    <tr>\n",
       "      <th>1</th>\n",
       "      <td>-1.782753</td>\n",
       "      <td>-1.753375</td>\n",
       "      <td>-0.140317</td>\n",
       "      <td>-0.514563</td>\n",
       "      <td>-2.199304</td>\n",
       "      <td>-1.733706</td>\n",
       "      <td>0.261965</td>\n",
       "      <td>-0.221446</td>\n",
       "      <td>-0.107145</td>\n",
       "      <td>-0.216222</td>\n",
       "      <td>2</td>\n",
       "    </tr>\n",
       "    <tr>\n",
       "      <th>2</th>\n",
       "      <td>-1.782753</td>\n",
       "      <td>-1.753378</td>\n",
       "      <td>-0.140317</td>\n",
       "      <td>-0.514563</td>\n",
       "      <td>-0.598916</td>\n",
       "      <td>-1.733706</td>\n",
       "      <td>0.444156</td>\n",
       "      <td>-0.221446</td>\n",
       "      <td>-0.107145</td>\n",
       "      <td>-0.216222</td>\n",
       "      <td>2</td>\n",
       "    </tr>\n",
       "    <tr>\n",
       "      <th>3</th>\n",
       "      <td>-1.782753</td>\n",
       "      <td>-1.753377</td>\n",
       "      <td>-0.140317</td>\n",
       "      <td>-0.514563</td>\n",
       "      <td>-0.268953</td>\n",
       "      <td>-1.733706</td>\n",
       "      <td>0.424287</td>\n",
       "      <td>-0.221446</td>\n",
       "      <td>-0.107145</td>\n",
       "      <td>-0.216222</td>\n",
       "      <td>2</td>\n",
       "    </tr>\n",
       "    <tr>\n",
       "      <th>4</th>\n",
       "      <td>-1.782753</td>\n",
       "      <td>-1.753378</td>\n",
       "      <td>-0.140317</td>\n",
       "      <td>-0.514563</td>\n",
       "      <td>-2.202442</td>\n",
       "      <td>-1.733706</td>\n",
       "      <td>0.488375</td>\n",
       "      <td>-0.221446</td>\n",
       "      <td>-0.107145</td>\n",
       "      <td>-0.216222</td>\n",
       "      <td>2</td>\n",
       "    </tr>\n",
       "    <tr>\n",
       "      <th>5</th>\n",
       "      <td>-1.782753</td>\n",
       "      <td>-1.752993</td>\n",
       "      <td>-0.140317</td>\n",
       "      <td>-0.911458</td>\n",
       "      <td>0.000819</td>\n",
       "      <td>-1.733706</td>\n",
       "      <td>0.650967</td>\n",
       "      <td>-0.192982</td>\n",
       "      <td>-0.107145</td>\n",
       "      <td>-0.216222</td>\n",
       "      <td>2</td>\n",
       "    </tr>\n",
       "  </tbody>\n",
       "</table>\n",
       "</div>"
      ]
     },
     "execution_count": 1,
     "metadata": {},
     "output_type": "execute_result"
    }
   ],
   "source": [
    "import pandas as pd\n",
    "import matplotlib.pyplot as plt\n",
    "\n",
    "%matplotlib inline\n",
    "\n",
    "\n",
    "data = pd.read_csv(\"origin_labeled.csv\")\n",
    "data.head()"
   ]
  },
  {
   "cell_type": "code",
   "execution_count": 2,
   "metadata": {},
   "outputs": [
    {
     "name": "stdout",
     "output_type": "stream",
     "text": [
      "(97816, 11)\n"
     ]
    }
   ],
   "source": [
    "print(data.shape)\n"
   ]
  },
  {
   "cell_type": "code",
   "execution_count": 3,
   "metadata": {
    "collapsed": false
   },
   "outputs": [
    {
     "name": "stdout",
     "output_type": "stream",
     "text": [
      "cluster\n1    45322\n2    52494\ndtype: int64\n"
     ]
    }
   ],
   "source": [
    "print(data.groupby(\"cluster\").size())\n"
   ]
  },
  {
   "cell_type": "code",
   "execution_count": 4,
   "metadata": {},
   "outputs": [
    {
     "name": "stdout",
     "output_type": "stream",
     "text": [
      "['blockID', 'txID', 'seq', 'addrID', 'sum', 'block_timestamp', 'balance', 'n_inputs', 'n_outputs', 'n_txs', 'cluster']\n['blockID', 'txID', 'seq', 'addrID', 'sum', 'block_timestamp', 'balance', 'n_inputs', 'n_outputs', 'n_txs']\n"
     ]
    }
   ],
   "source": [
    "features = list(data.columns)\n",
    "print(features)\n",
    "\n",
    "features.remove(\"cluster\")\n",
    "print(features)"
   ]
  },
  {
   "cell_type": "code",
   "execution_count": 5,
   "metadata": {},
   "outputs": [],
   "source": [
    "x = data[features]\n",
    "y = data[\"cluster\"]\n",
    "\n",
    "\n"
   ]
  },
  {
   "cell_type": "code",
   "execution_count": 46,
   "metadata": {},
   "outputs": [],
   "source": [
    "from sklearn.model_selection import train_test_split\n",
    "\n",
    "X_train, X_test, y_train, y_test = train_test_split(x, \n",
    "                                                    y, \n",
    "                                                    test_size=0.9)"
   ]
  },
  {
   "cell_type": "code",
   "execution_count": 7,
   "metadata": {},
   "outputs": [
    {
     "name": "stdout",
     "output_type": "stream",
     "text": [
      "Accuracy of K-NN classifier on training set: 0.99846\n"
     ]
    },
    {
     "name": "stdout",
     "output_type": "stream",
     "text": [
      "Accuracy of K-NN classifier on test set: 0.99583\n"
     ]
    },
    {
     "name": "stdout",
     "output_type": "stream",
     "text": [
      "[[11366    20]\n [   82 12986]]\n"
     ]
    }
   ],
   "source": [
    "from sklearn.neighbors import KNeighborsClassifier\n",
    "from sklearn.metrics import classification_report\n",
    "from sklearn.metrics import confusion_matrix\n",
    "import numpy as np\n",
    "\n",
    "knn = KNeighborsClassifier(2)\n",
    "knn.fit(X_train, y_train)\n",
    "print('Accuracy of K-NN classifier on training set: {:.5f}'.format(\n",
    "    knn.score(X_train, y_train)))\n",
    "print('Accuracy of K-NN classifier on test set: {:.5f}'.format(\n",
    "    knn.score(X_test, y_test)))\n",
    "print(confusion_matrix(y_test, knn.predict(X_test)))\n"
   ]
  },
  {
   "cell_type": "code",
   "execution_count": 47,
   "metadata": {},
   "outputs": [
    {
     "name": "stdout",
     "output_type": "stream",
     "text": [
      "Accuracy of GNB classifier on training set: 0.96125\nAccuracy of GNB classifier on test set: 0.95928\n[[37784  2953]\n [  632 46666]]\n"
     ]
    }
   ],
   "source": [
    "from sklearn.naive_bayes import GaussianNB\n",
    "\n",
    "gnb = GaussianNB()\n",
    "gnb.fit(X_train, y_train)\n",
    "print('Accuracy of GNB classifier on training set: {:.5f}'\n",
    "      .format(gnb.score(X_train, y_train)))\n",
    "print('Accuracy of GNB classifier on test set: {:.5f}'\n",
    "      .format(gnb.score(X_test, y_test)))\n",
    "print(confusion_matrix(y_test, gnb.predict(X_test)))\n"
   ]
  },
  {
   "cell_type": "code",
   "execution_count": 9,
   "metadata": {},
   "outputs": [
    {
     "name": "stdout",
     "output_type": "stream",
     "text": [
      "Accuracy of SVM classifier on training set: 0.99821\n"
     ]
    },
    {
     "name": "stdout",
     "output_type": "stream",
     "text": [
      "Accuracy of SVM classifier on test set: 0.99828\n"
     ]
    },
    {
     "name": "stdout",
     "output_type": "stream",
     "text": [
      "[[11367    19]\n [   23 13045]]\n"
     ]
    }
   ],
   "source": [
    "from sklearn.svm import SVC\n",
    "\n",
    "svm = SVC(kernel=\"linear\", C=0.025)\n",
    "svm.fit(X_train, y_train)\n",
    "print('Accuracy of SVM classifier on training set: {:.5f}'\n",
    "      .format(svm.score(X_train, y_train)))\n",
    "print('Accuracy of SVM classifier on test set: {:.5f}'\n",
    "      .format(svm.score(X_test, y_test)))\n",
    "print(confusion_matrix(y_test, svm.predict(X_test)))\n"
   ]
  },
  {
   "cell_type": "code",
   "execution_count": 10,
   "metadata": {},
   "outputs": [
    {
     "name": "stdout",
     "output_type": "stream",
     "text": [
      "Accuracy of SVM2 classifier on training set: 0.99836\n"
     ]
    },
    {
     "name": "stdout",
     "output_type": "stream",
     "text": [
      "Accuracy of SVM2 classifier on test set: 0.99558\n"
     ]
    },
    {
     "name": "stdout",
     "output_type": "stream",
     "text": [
      "[[11367    19]\n [   89 12979]]\n"
     ]
    }
   ],
   "source": [
    "svm2 = SVC(gamma=2, C=1)\n",
    "svm2.fit(X_train, y_train)\n",
    "print('Accuracy of SVM2 classifier on training set: {:.5f}'\n",
    "      .format(svm2.score(X_train, y_train)))\n",
    "print('Accuracy of SVM2 classifier on test set: {:.5f}'\n",
    "      .format(svm2.score(X_test, y_test)))\n",
    "print(confusion_matrix(y_test, svm2.predict(X_test)))\n"
   ]
  },
  {
   "cell_type": "code",
   "execution_count": 11,
   "metadata": {
    "collapsed": false
   },
   "outputs": [
    {
     "name": "stdout",
     "output_type": "stream",
     "text": [
      "Accuracy of MLP classifier on training set: 0.99647\nAccuracy of MLP classifier on test set: 0.99701\n[[11345    41]\n [   32 13036]]\n"
     ]
    }
   ],
   "source": [
    "from sklearn.neural_network import MLPClassifier\n",
    "\n",
    "mlp = MLPClassifier(alpha=1)\n",
    "mlp.fit(X_train, y_train)\n",
    "print('Accuracy of MLP classifier on training set: {:.5f}'\n",
    "      .format(mlp.score(X_train, y_train)))\n",
    "print('Accuracy of MLP classifier on test set: {:.5f}'\n",
    "      .format(mlp.score(X_test, y_test)))\n",
    "print(confusion_matrix(y_test, mlp.predict(X_test)))"
   ]
  },
  {
   "cell_type": "code",
   "execution_count": 12,
   "metadata": {},
   "outputs": [
    {
     "name": "stdout",
     "output_type": "stream",
     "text": [
      "Accuracy of SVM3 classifier on training set: 0.99815\n"
     ]
    },
    {
     "name": "stdout",
     "output_type": "stream",
     "text": [
      "Accuracy of SVM3 classifier on test set: 0.99804\n"
     ]
    },
    {
     "name": "stdout",
     "output_type": "stream",
     "text": [
      "[[11367    19]\n [   29 13039]]\n"
     ]
    }
   ],
   "source": [
    "svm3 = SVC()\n",
    "svm3.fit(X_train, y_train)\n",
    "print('Accuracy of SVM3 classifier on training set: {:.5f}'\n",
    "      .format(svm3.score(X_train, y_train)))\n",
    "print('Accuracy of SVM3 classifier on test set: {:.5f}'\n",
    "      .format(svm3.score(X_test, y_test)))\n",
    "print(confusion_matrix(y_test, svm3.predict(X_test)))\n"
   ]
  },
  {
   "cell_type": "code",
   "execution_count": null,
   "metadata": {},
   "outputs": [],
   "source": []
  }
 ],
 "metadata": {
  "kernelspec": {
   "display_name": "Python 2",
   "language": "python",
   "name": "python2"
  },
  "language_info": {
   "codemirror_mode": {
    "name": "ipython",
    "version": 2
   },
   "file_extension": ".py",
   "mimetype": "text/x-python",
   "name": "python",
   "nbconvert_exporter": "python",
   "pygments_lexer": "ipython2",
   "version": "2.7.6"
  }
 },
 "nbformat": 4,
 "nbformat_minor": 0
}
